{
 "cells": [
  {
   "cell_type": "code",
   "execution_count": 1,
   "metadata": {},
   "outputs": [],
   "source": [
    "import nltk\n",
    "import pandas as pd\n",
    "import string\n",
    "import seaborn as sns\n",
    "import numpy as np\n",
    "import matplotlib.pyplot as plt"
   ]
  },
  {
   "cell_type": "code",
   "execution_count": 2,
   "metadata": {},
   "outputs": [],
   "source": [
    "from nltk.sentiment.vader import SentimentIntensityAnalyzer\n",
    "from nltk.corpus import stopwords\n",
    "\n",
    "analyzer = SentimentIntensityAnalyzer()\n",
    "STOPWORDS = set(stopwords.words('english'))"
   ]
  },
  {
   "cell_type": "code",
   "execution_count": 3,
   "metadata": {},
   "outputs": [],
   "source": [
    "crypto = 'crypto_bitcoin'\n",
    "# crypto = 'crypto_ethereum'\n",
    "# crypto = 'crypto_xrp'"
   ]
  },
  {
   "cell_type": "code",
   "execution_count": 4,
   "metadata": {},
   "outputs": [],
   "source": [
    "list_subs = ['bitcoin','bitcoinbeginners','bitcoinmarkets','bitcoinmining','btc']\n",
    "# list_subs = ['ethereum','ethermining','ethfinance','eth','ethtrader']"
   ]
  },
  {
   "cell_type": "code",
   "execution_count": 5,
   "metadata": {},
   "outputs": [],
   "source": [
    "def map_sentiment(score):\n",
    "    if -1 <= score <= -0.5:\n",
    "        return 'Negative'\n",
    "    elif 0.5 < score <= 1:\n",
    "        return 'Positive'\n",
    "    else:\n",
    "        return 'Neutral'"
   ]
  },
  {
   "cell_type": "code",
   "execution_count": 5,
   "metadata": {},
   "outputs": [
    {
     "name": "stdout",
     "output_type": "stream",
     "text": [
      "Started processing! bitcoin\n",
      "\tLoaded submissions DF\n",
      "bitcoin: (90465, 10) after deleting removed/deleted posts\n"
     ]
    },
    {
     "data": {
      "text/html": [
       "<div>\n",
       "<style scoped>\n",
       "    .dataframe tbody tr th:only-of-type {\n",
       "        vertical-align: middle;\n",
       "    }\n",
       "\n",
       "    .dataframe tbody tr th {\n",
       "        vertical-align: top;\n",
       "    }\n",
       "\n",
       "    .dataframe thead th {\n",
       "        text-align: right;\n",
       "    }\n",
       "</style>\n",
       "<table border=\"1\" class=\"dataframe\">\n",
       "  <thead>\n",
       "    <tr style=\"text-align: right;\">\n",
       "      <th></th>\n",
       "      <th>submission</th>\n",
       "      <th>post_text</th>\n",
       "      <th>subreddit</th>\n",
       "      <th>score</th>\n",
       "      <th>num_comments</th>\n",
       "      <th>posted_on</th>\n",
       "      <th># Of Words</th>\n",
       "    </tr>\n",
       "  </thead>\n",
       "  <tbody>\n",
       "    <tr>\n",
       "      <th>0</th>\n",
       "      <td>abcwdu</td>\n",
       "      <td>Are these accurate criticisms of Lightning Net...</td>\n",
       "      <td>Bitcoin</td>\n",
       "      <td>0</td>\n",
       "      <td>11</td>\n",
       "      <td>2019-01-01 00:05:35</td>\n",
       "      <td>93</td>\n",
       "    </tr>\n",
       "    <tr>\n",
       "      <th>1</th>\n",
       "      <td>abcxb0</td>\n",
       "      <td>How to open a Bitcoin wallet without a bank ac...</td>\n",
       "      <td>Bitcoin</td>\n",
       "      <td>6</td>\n",
       "      <td>12</td>\n",
       "      <td>2019-01-01 00:08:21</td>\n",
       "      <td>66</td>\n",
       "    </tr>\n",
       "  </tbody>\n",
       "</table>\n",
       "</div>"
      ],
      "text/plain": [
       "  submission                                          post_text subreddit  \\\n",
       "0     abcwdu  Are these accurate criticisms of Lightning Net...   Bitcoin   \n",
       "1     abcxb0  How to open a Bitcoin wallet without a bank ac...   Bitcoin   \n",
       "\n",
       "   score  num_comments            posted_on  # Of Words  \n",
       "0      0            11  2019-01-01 00:05:35          93  \n",
       "1      6            12  2019-01-01 00:08:21          66  "
      ]
     },
     "metadata": {},
     "output_type": "display_data"
    },
    {
     "name": "stdout",
     "output_type": "stream",
     "text": [
      "Started processing! bitcoinbeginners\n",
      "\tLoaded submissions DF\n",
      "bitcoinbeginners: (18114, 10) after deleting removed/deleted posts\n"
     ]
    },
    {
     "data": {
      "text/html": [
       "<div>\n",
       "<style scoped>\n",
       "    .dataframe tbody tr th:only-of-type {\n",
       "        vertical-align: middle;\n",
       "    }\n",
       "\n",
       "    .dataframe tbody tr th {\n",
       "        vertical-align: top;\n",
       "    }\n",
       "\n",
       "    .dataframe thead th {\n",
       "        text-align: right;\n",
       "    }\n",
       "</style>\n",
       "<table border=\"1\" class=\"dataframe\">\n",
       "  <thead>\n",
       "    <tr style=\"text-align: right;\">\n",
       "      <th></th>\n",
       "      <th>submission</th>\n",
       "      <th>post_text</th>\n",
       "      <th>subreddit</th>\n",
       "      <th>score</th>\n",
       "      <th>num_comments</th>\n",
       "      <th>posted_on</th>\n",
       "      <th># Of Words</th>\n",
       "    </tr>\n",
       "  </thead>\n",
       "  <tbody>\n",
       "    <tr>\n",
       "      <th>8</th>\n",
       "      <td>abq5jg</td>\n",
       "      <td>Issue while withdrawing funds I have an issue ...</td>\n",
       "      <td>BitcoinBeginners</td>\n",
       "      <td>2</td>\n",
       "      <td>11</td>\n",
       "      <td>2019-01-02 05:08:14</td>\n",
       "      <td>74</td>\n",
       "    </tr>\n",
       "    <tr>\n",
       "      <th>12</th>\n",
       "      <td>absh1i</td>\n",
       "      <td>Newbie Alert!! Looking into diving into the cr...</td>\n",
       "      <td>BitcoinBeginners</td>\n",
       "      <td>10</td>\n",
       "      <td>30</td>\n",
       "      <td>2019-01-02 11:08:39</td>\n",
       "      <td>70</td>\n",
       "    </tr>\n",
       "  </tbody>\n",
       "</table>\n",
       "</div>"
      ],
      "text/plain": [
       "   submission                                          post_text  \\\n",
       "8      abq5jg  Issue while withdrawing funds I have an issue ...   \n",
       "12     absh1i  Newbie Alert!! Looking into diving into the cr...   \n",
       "\n",
       "           subreddit  score  num_comments            posted_on  # Of Words  \n",
       "8   BitcoinBeginners      2            11  2019-01-02 05:08:14          74  \n",
       "12  BitcoinBeginners     10            30  2019-01-02 11:08:39          70  "
      ]
     },
     "metadata": {},
     "output_type": "display_data"
    },
    {
     "name": "stdout",
     "output_type": "stream",
     "text": [
      "Started processing! bitcoinmarkets\n",
      "\tLoaded submissions DF\n",
      "bitcoinmarkets: (1974, 10) after deleting removed/deleted posts\n"
     ]
    },
    {
     "data": {
      "text/html": [
       "<div>\n",
       "<style scoped>\n",
       "    .dataframe tbody tr th:only-of-type {\n",
       "        vertical-align: middle;\n",
       "    }\n",
       "\n",
       "    .dataframe tbody tr th {\n",
       "        vertical-align: top;\n",
       "    }\n",
       "\n",
       "    .dataframe thead th {\n",
       "        text-align: right;\n",
       "    }\n",
       "</style>\n",
       "<table border=\"1\" class=\"dataframe\">\n",
       "  <thead>\n",
       "    <tr style=\"text-align: right;\">\n",
       "      <th></th>\n",
       "      <th>submission</th>\n",
       "      <th>post_text</th>\n",
       "      <th>subreddit</th>\n",
       "      <th>score</th>\n",
       "      <th>num_comments</th>\n",
       "      <th>posted_on</th>\n",
       "      <th># Of Words</th>\n",
       "    </tr>\n",
       "  </thead>\n",
       "  <tbody>\n",
       "    <tr>\n",
       "      <th>0</th>\n",
       "      <td>aberj1</td>\n",
       "      <td>[Altcoin Discussion] Tuesday, January 01, 2019...</td>\n",
       "      <td>BitcoinMarkets</td>\n",
       "      <td>5</td>\n",
       "      <td>2</td>\n",
       "      <td>2019-01-01 04:05:32</td>\n",
       "      <td>168</td>\n",
       "    </tr>\n",
       "    <tr>\n",
       "      <th>9</th>\n",
       "      <td>abpnzp</td>\n",
       "      <td>[Altcoin Discussion] Wednesday, January 02, 20...</td>\n",
       "      <td>BitcoinMarkets</td>\n",
       "      <td>6</td>\n",
       "      <td>14</td>\n",
       "      <td>2019-01-02 04:05:36</td>\n",
       "      <td>168</td>\n",
       "    </tr>\n",
       "  </tbody>\n",
       "</table>\n",
       "</div>"
      ],
      "text/plain": [
       "  submission                                          post_text  \\\n",
       "0     aberj1  [Altcoin Discussion] Tuesday, January 01, 2019...   \n",
       "9     abpnzp  [Altcoin Discussion] Wednesday, January 02, 20...   \n",
       "\n",
       "        subreddit  score  num_comments            posted_on  # Of Words  \n",
       "0  BitcoinMarkets      5             2  2019-01-01 04:05:32         168  \n",
       "9  BitcoinMarkets      6            14  2019-01-02 04:05:36         168  "
      ]
     },
     "metadata": {},
     "output_type": "display_data"
    },
    {
     "name": "stdout",
     "output_type": "stream",
     "text": [
      "Started processing! bitcoinmining\n",
      "\tLoaded submissions DF\n",
      "bitcoinmining: (6288, 10) after deleting removed/deleted posts\n"
     ]
    },
    {
     "data": {
      "text/html": [
       "<div>\n",
       "<style scoped>\n",
       "    .dataframe tbody tr th:only-of-type {\n",
       "        vertical-align: middle;\n",
       "    }\n",
       "\n",
       "    .dataframe tbody tr th {\n",
       "        vertical-align: top;\n",
       "    }\n",
       "\n",
       "    .dataframe thead th {\n",
       "        text-align: right;\n",
       "    }\n",
       "</style>\n",
       "<table border=\"1\" class=\"dataframe\">\n",
       "  <thead>\n",
       "    <tr style=\"text-align: right;\">\n",
       "      <th></th>\n",
       "      <th>submission</th>\n",
       "      <th>post_text</th>\n",
       "      <th>subreddit</th>\n",
       "      <th>score</th>\n",
       "      <th>num_comments</th>\n",
       "      <th>posted_on</th>\n",
       "      <th># Of Words</th>\n",
       "    </tr>\n",
       "  </thead>\n",
       "  <tbody>\n",
       "    <tr>\n",
       "      <th>1</th>\n",
       "      <td>abdzjx</td>\n",
       "      <td>S9 Exhaust Fan Replacement? I'm thinking that ...</td>\n",
       "      <td>BitcoinMining</td>\n",
       "      <td>3</td>\n",
       "      <td>9</td>\n",
       "      <td>2019-01-01 02:15:26</td>\n",
       "      <td>106</td>\n",
       "    </tr>\n",
       "    <tr>\n",
       "      <th>25</th>\n",
       "      <td>ac6544</td>\n",
       "      <td>If mining is unprofitable, why are people stil...</td>\n",
       "      <td>BitcoinMining</td>\n",
       "      <td>9</td>\n",
       "      <td>26</td>\n",
       "      <td>2019-01-03 14:23:33</td>\n",
       "      <td>79</td>\n",
       "    </tr>\n",
       "  </tbody>\n",
       "</table>\n",
       "</div>"
      ],
      "text/plain": [
       "   submission                                          post_text  \\\n",
       "1      abdzjx  S9 Exhaust Fan Replacement? I'm thinking that ...   \n",
       "25     ac6544  If mining is unprofitable, why are people stil...   \n",
       "\n",
       "        subreddit  score  num_comments            posted_on  # Of Words  \n",
       "1   BitcoinMining      3             9  2019-01-01 02:15:26         106  \n",
       "25  BitcoinMining      9            26  2019-01-03 14:23:33          79  "
      ]
     },
     "metadata": {},
     "output_type": "display_data"
    },
    {
     "name": "stdout",
     "output_type": "stream",
     "text": [
      "Started processing! btc\n",
      "\tLoaded submissions DF\n",
      "btc: (21453, 10) after deleting removed/deleted posts\n"
     ]
    },
    {
     "data": {
      "text/html": [
       "<div>\n",
       "<style scoped>\n",
       "    .dataframe tbody tr th:only-of-type {\n",
       "        vertical-align: middle;\n",
       "    }\n",
       "\n",
       "    .dataframe tbody tr th {\n",
       "        vertical-align: top;\n",
       "    }\n",
       "\n",
       "    .dataframe thead th {\n",
       "        text-align: right;\n",
       "    }\n",
       "</style>\n",
       "<table border=\"1\" class=\"dataframe\">\n",
       "  <thead>\n",
       "    <tr style=\"text-align: right;\">\n",
       "      <th></th>\n",
       "      <th>submission</th>\n",
       "      <th>post_text</th>\n",
       "      <th>subreddit</th>\n",
       "      <th>score</th>\n",
       "      <th>num_comments</th>\n",
       "      <th>posted_on</th>\n",
       "      <th># Of Words</th>\n",
       "    </tr>\n",
       "  </thead>\n",
       "  <tbody>\n",
       "    <tr>\n",
       "      <th>0</th>\n",
       "      <td>abcvgy</td>\n",
       "      <td>I have a mission if you choose to accept it......</td>\n",
       "      <td>btc</td>\n",
       "      <td>0</td>\n",
       "      <td>0</td>\n",
       "      <td>2019-01-01 00:02:52</td>\n",
       "      <td>70</td>\n",
       "    </tr>\n",
       "    <tr>\n",
       "      <th>2</th>\n",
       "      <td>abdnua</td>\n",
       "      <td>When Roger offered $1.25M to Opennode, did the...</td>\n",
       "      <td>btc</td>\n",
       "      <td>8</td>\n",
       "      <td>8</td>\n",
       "      <td>2019-01-01 01:33:22</td>\n",
       "      <td>26</td>\n",
       "    </tr>\n",
       "  </tbody>\n",
       "</table>\n",
       "</div>"
      ],
      "text/plain": [
       "  submission                                          post_text subreddit  \\\n",
       "0     abcvgy  I have a mission if you choose to accept it......       btc   \n",
       "2     abdnua  When Roger offered $1.25M to Opennode, did the...       btc   \n",
       "\n",
       "   score  num_comments            posted_on  # Of Words  \n",
       "0      0             0  2019-01-01 00:02:52          70  \n",
       "2      8             8  2019-01-01 01:33:22          26  "
      ]
     },
     "metadata": {},
     "output_type": "display_data"
    }
   ],
   "source": [
    "# CryptoBERT Processing\n",
    "for subreddit in list_subs:\n",
    "    print(f\"Started processing! {subreddit}\")\n",
    "    posts_df = pd.read_csv(f\"Data/Cleaned_Data/{crypto}/submission_and_comments/{subreddit}_submissions_19_22.csv\")\n",
    "    print(\"\\tLoaded submissions DF\")\n",
    "    posts_df = posts_df[~posts_df['selftext'].isin(['[deleted]', '[removed]'])]\n",
    "    print(f\"{subreddit}: {posts_df.shape} after deleting removed/deleted posts\")\n",
    "    posts_df ['title'].fillna('', inplace=True)\n",
    "    posts_df ['selftext'].fillna('', inplace=True)\n",
    "    # Concatenate the two columns\n",
    "    posts_df ['post_text'] = posts_df ['title'] + ' ' + posts_df ['selftext']\n",
    "    posts_df['# Of Words'] = posts_df['post_text'].apply(lambda x: len(x.split(' ')))\n",
    "    posts_df[['submission','post_text','subreddit','score','num_comments','posted_on', '# Of Words']].to_csv(f\"Data/Sentiment/{crypto}/CRYPTOBERT/{subreddit}_submission_19_22.csv\",index=False)\n",
    "    display(posts_df[['submission','post_text','subreddit','score','num_comments','posted_on', '# Of Words']].head(2))\n",
    "    # print(f\"Saved! {subreddit}\")"
   ]
  },
  {
   "cell_type": "code",
   "execution_count": 10,
   "metadata": {},
   "outputs": [
    {
     "data": {
      "text/plain": [
       "['ethereum', 'ethermining', 'ethfinance', 'eth', 'ethtrader']"
      ]
     },
     "execution_count": 10,
     "metadata": {},
     "output_type": "execute_result"
    }
   ],
   "source": [
    "list_subs"
   ]
  },
  {
   "cell_type": "code",
   "execution_count": 11,
   "metadata": {},
   "outputs": [
    {
     "name": "stdout",
     "output_type": "stream",
     "text": [
      "Started processing! ethereum\n",
      "\tLoaded submissions DF\n",
      "ethereum: (16455, 10) after deleting removed/deleted posts\n",
      "\tCleaned posts DF for Vader SA\n",
      "\tVader SA Posts completed\n",
      "\tSentiment labels assigned!\n",
      "Saved! ethereum\n",
      "Started processing! ethermining\n",
      "\tLoaded submissions DF\n",
      "ethermining: (30918, 10) after deleting removed/deleted posts\n",
      "\tCleaned posts DF for Vader SA\n",
      "\tVader SA Posts completed\n",
      "\tSentiment labels assigned!\n",
      "Saved! ethermining\n",
      "Started processing! ethfinance\n",
      "\tLoaded submissions DF\n",
      "ethfinance: (2220, 10) after deleting removed/deleted posts\n",
      "\tCleaned posts DF for Vader SA\n",
      "\tVader SA Posts completed\n",
      "\tSentiment labels assigned!\n",
      "Saved! ethfinance\n",
      "Started processing! eth\n",
      "\tLoaded submissions DF\n",
      "eth: (1015, 10) after deleting removed/deleted posts\n",
      "\tCleaned posts DF for Vader SA\n",
      "\tVader SA Posts completed\n",
      "\tSentiment labels assigned!\n",
      "Saved! eth\n",
      "Started processing! ethtrader\n",
      "\tLoaded submissions DF\n",
      "ethtrader: (28005, 10) after deleting removed/deleted posts\n",
      "\tCleaned posts DF for Vader SA\n",
      "\tVader SA Posts completed\n",
      "\tSentiment labels assigned!\n",
      "Saved! ethtrader\n"
     ]
    }
   ],
   "source": [
    "for subreddit in list_subs:\n",
    "    print(f\"Started processing! {subreddit}\")\n",
    "    posts_df = pd.read_csv(f\"Data/Cleaned_Data/{crypto}/submission_and_comments/{subreddit}_submissions_19_22.csv\")\n",
    "    print(\"\\tLoaded submissions DF\")\n",
    "    posts_df = posts_df[~posts_df['selftext'].isin(['[deleted]', '[removed]'])]\n",
    "    print(f\"{subreddit}: {posts_df.shape} after deleting removed/deleted posts\")\n",
    "    posts_df ['title'].fillna('', inplace=True)\n",
    "    posts_df ['selftext'].fillna('', inplace=True)\n",
    "    # Concatenate the two columns\n",
    "    posts_df ['post_text'] = posts_df ['title'] + ' ' + posts_df ['selftext']\n",
    "    posts_df['VADER_Score']=posts_df['post_text'].map(lambda txt : analyzer.polarity_scores(txt)['compound'])\n",
    "    print(\"\\tVader SA Posts completed\")\n",
    "    posts_df['VADER_Post_Sentiment'] = posts_df['VADER_Score'].apply(map_sentiment)\n",
    "    print(\"\\tSentiment labels assigned!\")\n",
    "    posts_df['# Of Words'] = posts_df['post_text'].apply(lambda x: len(x.split(' ')))\n",
    "    posts_df['# Of StopWords'] = posts_df['post_text'].apply(lambda x: len([word for word in x.split(' ') if word in list(STOPWORDS)]))\n",
    "    posts_df['Average Word Length'] = posts_df['post_text'].apply(lambda x: np.mean(np.array([len(va) for va in x.split(' ') if va not in list(STOPWORDS)])))\n",
    "    posts_df[['submission','subreddit','score','num_comments','posted_on','VADER_Score', 'VADER_Post_Sentiment', '# Of Words','# Of StopWords','Average Word Length']].to_csv(f\"Data/Sentiment/{crypto}/VADER/{subreddit}_submission_19_22.csv\",index=False)\n",
    "    print(f\"Saved! {subreddit}\")"
   ]
  },
  {
   "cell_type": "code",
   "execution_count": null,
   "metadata": {},
   "outputs": [],
   "source": []
  }
 ],
 "metadata": {
  "kernelspec": {
   "display_name": "base",
   "language": "python",
   "name": "python3"
  },
  "language_info": {
   "codemirror_mode": {
    "name": "ipython",
    "version": 3
   },
   "file_extension": ".py",
   "mimetype": "text/x-python",
   "name": "python",
   "nbconvert_exporter": "python",
   "pygments_lexer": "ipython3",
   "version": "3.9.-1"
  }
 },
 "nbformat": 4,
 "nbformat_minor": 2
}
