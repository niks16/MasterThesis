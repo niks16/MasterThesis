{
 "cells": [
  {
   "cell_type": "code",
   "execution_count": 1,
   "id": "CNMM6MvYdKCq",
   "metadata": {
    "collapsed": true,
    "id": "CNMM6MvYdKCq",
    "jupyter": {
     "outputs_hidden": true
    },
    "tags": []
   },
   "outputs": [
    {
     "name": "stdout",
     "output_type": "stream",
     "text": [
      "Requirement already satisfied: torch in /Users/nikshubhakumar/opt/anaconda3/lib/python3.9/site-packages (2.0.1)\n",
      "Requirement already satisfied: filelock in /Users/nikshubhakumar/opt/anaconda3/lib/python3.9/site-packages (from torch) (3.9.0)\n",
      "Requirement already satisfied: typing-extensions in /Users/nikshubhakumar/opt/anaconda3/lib/python3.9/site-packages (from torch) (4.6.3)\n",
      "Requirement already satisfied: sympy in /Users/nikshubhakumar/opt/anaconda3/lib/python3.9/site-packages (from torch) (1.11.1)\n",
      "Requirement already satisfied: networkx in /Users/nikshubhakumar/opt/anaconda3/lib/python3.9/site-packages (from torch) (2.7.1)\n",
      "Requirement already satisfied: jinja2 in /Users/nikshubhakumar/opt/anaconda3/lib/python3.9/site-packages (from torch) (3.1.2)\n",
      "Requirement already satisfied: MarkupSafe>=2.0 in /Users/nikshubhakumar/opt/anaconda3/lib/python3.9/site-packages (from jinja2->torch) (2.1.1)\n",
      "Requirement already satisfied: mpmath>=0.19 in /Users/nikshubhakumar/opt/anaconda3/lib/python3.9/site-packages (from sympy->torch) (1.2.1)\n",
      "\n",
      "\u001b[1m[\u001b[0m\u001b[34;49mnotice\u001b[0m\u001b[1;39;49m]\u001b[0m\u001b[39;49m A new release of pip is available: \u001b[0m\u001b[31;49m23.0.1\u001b[0m\u001b[39;49m -> \u001b[0m\u001b[32;49m23.3.2\u001b[0m\n",
      "\u001b[1m[\u001b[0m\u001b[34;49mnotice\u001b[0m\u001b[1;39;49m]\u001b[0m\u001b[39;49m To update, run: \u001b[0m\u001b[32;49mpip install --upgrade pip\u001b[0m\n"
     ]
    }
   ],
   "source": [
    "!pip install torch"
   ]
  },
  {
   "cell_type": "code",
   "execution_count": 2,
   "id": "5241adc6-44fb-4bd9-8189-626f922ddd10",
   "metadata": {
    "collapsed": true,
    "jupyter": {
     "outputs_hidden": true
    },
    "tags": []
   },
   "outputs": [
    {
     "name": "stdout",
     "output_type": "stream",
     "text": [
      "Collecting accelerate~=0.20\n",
      "  Obtaining dependency information for accelerate~=0.20 from https://files.pythonhosted.org/packages/a6/b9/44623bdb05595481107153182e7f4b9f2ef9d3b674938ad13842054dcbd8/accelerate-0.26.1-py3-none-any.whl.metadata\n",
      "  Downloading accelerate-0.26.1-py3-none-any.whl.metadata (18 kB)\n",
      "Requirement already satisfied: numpy>=1.17 in /Users/nikshubhakumar/opt/anaconda3/lib/python3.9/site-packages (from accelerate~=0.20) (1.23.5)\n",
      "Requirement already satisfied: packaging>=20.0 in /Users/nikshubhakumar/opt/anaconda3/lib/python3.9/site-packages (from accelerate~=0.20) (23.0)\n",
      "Requirement already satisfied: psutil in /Users/nikshubhakumar/opt/anaconda3/lib/python3.9/site-packages (from accelerate~=0.20) (5.9.0)\n",
      "Requirement already satisfied: pyyaml in /Users/nikshubhakumar/opt/anaconda3/lib/python3.9/site-packages (from accelerate~=0.20) (6.0)\n",
      "Requirement already satisfied: torch>=1.10.0 in /Users/nikshubhakumar/opt/anaconda3/lib/python3.9/site-packages (from accelerate~=0.20) (2.0.1)\n",
      "Requirement already satisfied: huggingface-hub in /Users/nikshubhakumar/opt/anaconda3/lib/python3.9/site-packages (from accelerate~=0.20) (0.16.4)\n",
      "Requirement already satisfied: safetensors>=0.3.1 in /Users/nikshubhakumar/opt/anaconda3/lib/python3.9/site-packages (from accelerate~=0.20) (0.3.1)\n",
      "Requirement already satisfied: filelock in /Users/nikshubhakumar/opt/anaconda3/lib/python3.9/site-packages (from torch>=1.10.0->accelerate~=0.20) (3.9.0)\n",
      "Requirement already satisfied: typing-extensions in /Users/nikshubhakumar/opt/anaconda3/lib/python3.9/site-packages (from torch>=1.10.0->accelerate~=0.20) (4.6.3)\n",
      "Requirement already satisfied: sympy in /Users/nikshubhakumar/opt/anaconda3/lib/python3.9/site-packages (from torch>=1.10.0->accelerate~=0.20) (1.11.1)\n",
      "Requirement already satisfied: networkx in /Users/nikshubhakumar/opt/anaconda3/lib/python3.9/site-packages (from torch>=1.10.0->accelerate~=0.20) (2.7.1)\n",
      "Requirement already satisfied: jinja2 in /Users/nikshubhakumar/opt/anaconda3/lib/python3.9/site-packages (from torch>=1.10.0->accelerate~=0.20) (3.1.2)\n",
      "Requirement already satisfied: fsspec in /Users/nikshubhakumar/opt/anaconda3/lib/python3.9/site-packages (from huggingface-hub->accelerate~=0.20) (2023.4.0)\n",
      "Requirement already satisfied: requests in /Users/nikshubhakumar/opt/anaconda3/lib/python3.9/site-packages (from huggingface-hub->accelerate~=0.20) (2.28.1)\n",
      "Requirement already satisfied: tqdm>=4.42.1 in /Users/nikshubhakumar/opt/anaconda3/lib/python3.9/site-packages (from huggingface-hub->accelerate~=0.20) (4.64.1)\n",
      "Requirement already satisfied: MarkupSafe>=2.0 in /Users/nikshubhakumar/opt/anaconda3/lib/python3.9/site-packages (from jinja2->torch>=1.10.0->accelerate~=0.20) (2.1.1)\n",
      "Requirement already satisfied: charset-normalizer<3,>=2 in /Users/nikshubhakumar/opt/anaconda3/lib/python3.9/site-packages (from requests->huggingface-hub->accelerate~=0.20) (2.0.4)\n",
      "Requirement already satisfied: idna<4,>=2.5 in /Users/nikshubhakumar/opt/anaconda3/lib/python3.9/site-packages (from requests->huggingface-hub->accelerate~=0.20) (3.4)\n",
      "Requirement already satisfied: urllib3<1.27,>=1.21.1 in /Users/nikshubhakumar/opt/anaconda3/lib/python3.9/site-packages (from requests->huggingface-hub->accelerate~=0.20) (1.26.16)\n",
      "Requirement already satisfied: certifi>=2017.4.17 in /Users/nikshubhakumar/opt/anaconda3/lib/python3.9/site-packages (from requests->huggingface-hub->accelerate~=0.20) (2023.5.7)\n",
      "Requirement already satisfied: mpmath>=0.19 in /Users/nikshubhakumar/opt/anaconda3/lib/python3.9/site-packages (from sympy->torch>=1.10.0->accelerate~=0.20) (1.2.1)\n",
      "Downloading accelerate-0.26.1-py3-none-any.whl (270 kB)\n",
      "\u001b[2K   \u001b[90m━━━━━━━━━━━━━━━━━━━━━━━━━━━━━━━━━━━━━━━━\u001b[0m \u001b[32m270.9/270.9 kB\u001b[0m \u001b[31m1.6 MB/s\u001b[0m eta \u001b[36m0:00:00\u001b[0ma \u001b[36m0:00:01\u001b[0m\n",
      "\u001b[?25hInstalling collected packages: accelerate\n",
      "Successfully installed accelerate-0.26.1\n",
      "\n",
      "\u001b[1m[\u001b[0m\u001b[34;49mnotice\u001b[0m\u001b[1;39;49m]\u001b[0m\u001b[39;49m A new release of pip is available: \u001b[0m\u001b[31;49m23.0.1\u001b[0m\u001b[39;49m -> \u001b[0m\u001b[32;49m23.3.2\u001b[0m\n",
      "\u001b[1m[\u001b[0m\u001b[34;49mnotice\u001b[0m\u001b[1;39;49m]\u001b[0m\u001b[39;49m To update, run: \u001b[0m\u001b[32;49mpip install --upgrade pip\u001b[0m\n",
      "Collecting transformers~=4.30.2\n",
      "  Obtaining dependency information for transformers~=4.30.2 from https://files.pythonhosted.org/packages/5b/0b/e45d26ccd28568013523e04f325432ea88a442b4e3020b757cf4361f0120/transformers-4.30.2-py3-none-any.whl.metadata\n",
      "  Downloading transformers-4.30.2-py3-none-any.whl.metadata (113 kB)\n",
      "\u001b[2K     \u001b[90m━━━━━━━━━━━━━━━━━━━━━━━━━━━━━━━━━━━━━━━\u001b[0m \u001b[32m113.6/113.6 kB\u001b[0m \u001b[31m1.8 MB/s\u001b[0m eta \u001b[36m0:00:00\u001b[0ma \u001b[36m0:00:01\u001b[0m\n",
      "\u001b[?25hRequirement already satisfied: filelock in /Users/nikshubhakumar/opt/anaconda3/lib/python3.9/site-packages (from transformers~=4.30.2) (3.9.0)\n",
      "Requirement already satisfied: huggingface-hub<1.0,>=0.14.1 in /Users/nikshubhakumar/opt/anaconda3/lib/python3.9/site-packages (from transformers~=4.30.2) (0.16.4)\n",
      "Requirement already satisfied: numpy>=1.17 in /Users/nikshubhakumar/opt/anaconda3/lib/python3.9/site-packages (from transformers~=4.30.2) (1.23.5)\n",
      "Requirement already satisfied: packaging>=20.0 in /Users/nikshubhakumar/opt/anaconda3/lib/python3.9/site-packages (from transformers~=4.30.2) (23.0)\n",
      "Requirement already satisfied: pyyaml>=5.1 in /Users/nikshubhakumar/opt/anaconda3/lib/python3.9/site-packages (from transformers~=4.30.2) (6.0)\n",
      "Requirement already satisfied: regex!=2019.12.17 in /Users/nikshubhakumar/opt/anaconda3/lib/python3.9/site-packages (from transformers~=4.30.2) (2022.7.9)\n",
      "Requirement already satisfied: requests in /Users/nikshubhakumar/opt/anaconda3/lib/python3.9/site-packages (from transformers~=4.30.2) (2.28.1)\n",
      "Requirement already satisfied: tokenizers!=0.11.3,<0.14,>=0.11.1 in /Users/nikshubhakumar/opt/anaconda3/lib/python3.9/site-packages (from transformers~=4.30.2) (0.13.3)\n",
      "Requirement already satisfied: safetensors>=0.3.1 in /Users/nikshubhakumar/opt/anaconda3/lib/python3.9/site-packages (from transformers~=4.30.2) (0.3.1)\n",
      "Requirement already satisfied: tqdm>=4.27 in /Users/nikshubhakumar/opt/anaconda3/lib/python3.9/site-packages (from transformers~=4.30.2) (4.64.1)\n",
      "Requirement already satisfied: fsspec in /Users/nikshubhakumar/opt/anaconda3/lib/python3.9/site-packages (from huggingface-hub<1.0,>=0.14.1->transformers~=4.30.2) (2023.4.0)\n",
      "Requirement already satisfied: typing-extensions>=3.7.4.3 in /Users/nikshubhakumar/opt/anaconda3/lib/python3.9/site-packages (from huggingface-hub<1.0,>=0.14.1->transformers~=4.30.2) (4.6.3)\n",
      "Requirement already satisfied: charset-normalizer<3,>=2 in /Users/nikshubhakumar/opt/anaconda3/lib/python3.9/site-packages (from requests->transformers~=4.30.2) (2.0.4)\n",
      "Requirement already satisfied: idna<4,>=2.5 in /Users/nikshubhakumar/opt/anaconda3/lib/python3.9/site-packages (from requests->transformers~=4.30.2) (3.4)\n",
      "Requirement already satisfied: urllib3<1.27,>=1.21.1 in /Users/nikshubhakumar/opt/anaconda3/lib/python3.9/site-packages (from requests->transformers~=4.30.2) (1.26.16)\n",
      "Requirement already satisfied: certifi>=2017.4.17 in /Users/nikshubhakumar/opt/anaconda3/lib/python3.9/site-packages (from requests->transformers~=4.30.2) (2023.5.7)\n",
      "Downloading transformers-4.30.2-py3-none-any.whl (7.2 MB)\n",
      "\u001b[2K   \u001b[90m━━━━━━━━━━━━━━━━━━━━━━━━━━━━━━━━━━━━━━━━\u001b[0m \u001b[32m7.2/7.2 MB\u001b[0m \u001b[31m815.3 kB/s\u001b[0m eta \u001b[36m0:00:00\u001b[0m00:01\u001b[0m00:01\u001b[0m\n",
      "\u001b[?25hInstalling collected packages: transformers\n",
      "  Attempting uninstall: transformers\n",
      "    Found existing installation: transformers 4.31.0\n",
      "    Uninstalling transformers-4.31.0:\n",
      "      Successfully uninstalled transformers-4.31.0\n",
      "Successfully installed transformers-4.30.2\n",
      "\n",
      "\u001b[1m[\u001b[0m\u001b[34;49mnotice\u001b[0m\u001b[1;39;49m]\u001b[0m\u001b[39;49m A new release of pip is available: \u001b[0m\u001b[31;49m23.0.1\u001b[0m\u001b[39;49m -> \u001b[0m\u001b[32;49m23.3.2\u001b[0m\n",
      "\u001b[1m[\u001b[0m\u001b[34;49mnotice\u001b[0m\u001b[1;39;49m]\u001b[0m\u001b[39;49m To update, run: \u001b[0m\u001b[32;49mpip install --upgrade pip\u001b[0m\n"
     ]
    }
   ],
   "source": [
    "!pip install accelerate~=0.20\n",
    "!pip install transformers~=4.30.2"
   ]
  },
  {
   "cell_type": "markdown",
   "id": "uysxSTY-41DQ",
   "metadata": {
    "id": "uysxSTY-41DQ"
   },
   "source": [
    "## Sentiment Analysis"
   ]
  },
  {
   "cell_type": "code",
   "execution_count": 1,
   "id": "ebff897e",
   "metadata": {},
   "outputs": [],
   "source": [
    "import pandas as pd"
   ]
  },
  {
   "cell_type": "code",
   "execution_count": null,
   "id": "d95b994e-954e-4546-83a8-efb497cffdb6",
   "metadata": {
    "tags": []
   },
   "outputs": [],
   "source": [
    "from transformers import TextClassificationPipeline, AutoModelForSequenceClassification, AutoTokenizer"
   ]
  },
  {
   "cell_type": "code",
   "execution_count": null,
   "id": "3047e2d7-00c3-4181-b6d0-8a9445cd2e4b",
   "metadata": {
    "tags": []
   },
   "outputs": [],
   "source": [
    "model_name = \"ElKulako/cryptobert\"\n",
    "tokenizer = AutoTokenizer.from_pretrained(model_name, use_fast=True)\n",
    "model = AutoModelForSequenceClassification.from_pretrained(model_name, num_labels = 3)\n",
    "pipe = TextClassificationPipeline(model=model, tokenizer=tokenizer, max_length=64, truncation=True, padding = 'max_length')"
   ]
  },
  {
   "cell_type": "code",
   "execution_count": 2,
   "id": "0f554213",
   "metadata": {},
   "outputs": [],
   "source": [
    "list_subs = ['bitcoin','bitcoinbeginners','bitcoinmarkets','bitcoinmining','btc']"
   ]
  },
  {
   "cell_type": "code",
   "execution_count": 6,
   "id": "6002465b",
   "metadata": {},
   "outputs": [
    {
     "name": "stdout",
     "output_type": "stream",
     "text": [
      "Data/Cleaned_Data/crypto_bitcoin/bitcoin_submission.csv\n",
      "bitcoin scores min: 0 max:  6\n",
      "Data/Sentiment/crypto_bitcoin/bitcoin_submission_sentiment.csv\n",
      "Data/Cleaned_Data/crypto_bitcoin/bitcoinbeginners_submission.csv\n",
      "bitcoinbeginners scores min: 0 max:  6\n",
      "Data/Sentiment/crypto_bitcoin/bitcoinbeginners_submission_sentiment.csv\n",
      "Data/Cleaned_Data/crypto_bitcoin/bitcoinmarkets_submission.csv\n",
      "bitcoinmarkets scores min: 0 max:  6\n",
      "Data/Sentiment/crypto_bitcoin/bitcoinmarkets_submission_sentiment.csv\n",
      "Data/Cleaned_Data/crypto_bitcoin/bitcoinmining_submission.csv\n",
      "bitcoinmining scores min: 0 max:  6\n",
      "Data/Sentiment/crypto_bitcoin/bitcoinmining_submission_sentiment.csv\n",
      "Data/Cleaned_Data/crypto_bitcoin/btc_submission.csv\n",
      "btc scores min: 0 max:  6\n",
      "Data/Sentiment/crypto_bitcoin/btc_submission_sentiment.csv\n"
     ]
    }
   ],
   "source": [
    "for subreddit in list_subs:\n",
    "    final_df = pd.read_csv(f\"Data/Cleaned_Data/crypto_bitcoin/{subreddit}_submission.csv\")\n",
    "    reddit_texts = final_df['selftext'].tolist()\n",
    "    preds = pipe(reddit_texts)\n",
    "    for element in preds:\n",
    "        label = element['label']\n",
    "        if label == \"Bearish\":\n",
    "            element['label']=\"Negative\"\n",
    "        elif label == 'Bullish':\n",
    "            element['label']=\"Positive\"\n",
    "        else:\n",
    "            element['label']=\"Neutral\"\n",
    "    new_data_df = pd.DataFrame(preds)\n",
    "    print(f\"{subreddit} scores min: \",new_data_df.score.min(),\"max: \",new_data_df.score.max())\n",
    "    labeled_df = pd.concat([final_df, new_data_df], axis=1)\n",
    "    labeled_df.to_csv(f\"Data/Sentiment/crypto_bitcoin/{subreddit}_submission_sentiment.csv\",index=False)"
   ]
  },
  {
   "cell_type": "code",
   "execution_count": null,
   "id": "37df647b",
   "metadata": {},
   "outputs": [],
   "source": []
  }
 ],
 "metadata": {
  "kernelspec": {
   "display_name": "Python 3 (ipykernel)",
   "language": "python",
   "name": "python3"
  },
  "language_info": {
   "codemirror_mode": {
    "name": "ipython",
    "version": 3
   },
   "file_extension": ".py",
   "mimetype": "text/x-python",
   "name": "python",
   "nbconvert_exporter": "python",
   "pygments_lexer": "ipython3",
   "version": "3.9.17"
  }
 },
 "nbformat": 4,
 "nbformat_minor": 5
}
