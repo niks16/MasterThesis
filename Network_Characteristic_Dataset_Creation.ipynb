{
 "cells": [
  {
   "cell_type": "code",
   "execution_count": 1,
   "id": "fb906af1",
   "metadata": {},
   "outputs": [],
   "source": [
    "import pandas as pd\n",
    "import datetime"
   ]
  },
  {
   "cell_type": "code",
   "execution_count": 3,
   "id": "a5a55563",
   "metadata": {},
   "outputs": [],
   "source": [
    "list_subs = ['bitcoin','bitcoinbeginners','bitcoinmarkets','bitcoinmining','btc']\n",
    "subreddit = 'bitcoinmining'"
   ]
  },
  {
   "cell_type": "code",
   "execution_count": 4,
   "id": "b9c284c8",
   "metadata": {},
   "outputs": [],
   "source": [
    "submissions = pd.read_csv(f'Data/Cleaned_Data/crypto_bitcoin/submission_and_comments/{subreddit}_submission.csv',parse_dates=['posted_on'])"
   ]
  },
  {
   "cell_type": "code",
   "execution_count": 6,
   "id": "afde6cc4",
   "metadata": {},
   "outputs": [],
   "source": [
    "comments = pd.read_csv(f\"Data/Cleaned_Data/crypto_bitcoin/submission_and_comments/{subreddit}_comment.csv\",lineterminator='\\n')"
   ]
  },
  {
   "cell_type": "code",
   "execution_count": 7,
   "id": "a2546201",
   "metadata": {},
   "outputs": [
    {
     "data": {
      "text/plain": [
       "(2283, 10)"
      ]
     },
     "execution_count": 7,
     "metadata": {},
     "output_type": "execute_result"
    }
   ],
   "source": [
    "submissions.shape"
   ]
  },
  {
   "cell_type": "code",
   "execution_count": 8,
   "id": "94f5d4b4",
   "metadata": {},
   "outputs": [
    {
     "data": {
      "text/plain": [
       "(8700, 8)"
      ]
     },
     "execution_count": 8,
     "metadata": {},
     "output_type": "execute_result"
    }
   ],
   "source": [
    "comments.shape"
   ]
  },
  {
   "cell_type": "code",
   "execution_count": 9,
   "id": "d903555b",
   "metadata": {},
   "outputs": [],
   "source": [
    "# Create a new column 'day_of_year' to represent the day of the year for each submission\n",
    "submissions['day_of_year'] = submissions['posted_on'].dt.date\n",
    "\n",
    "# Group by 'day_of_year' and create a dictionary of DataFrames for each day\n",
    "daily_datasets = {day: group for day, group in submissions.groupby('day_of_year')}"
   ]
  },
  {
   "cell_type": "code",
   "execution_count": 10,
   "id": "835e6a80",
   "metadata": {},
   "outputs": [],
   "source": [
    "for day in daily_datasets.keys():\n",
    "    df = daily_datasets[day]\n",
    "    filtered_df = comments[comments['parent_id'].isin(df['submission'])]\n",
    "    merged_df = pd.merge(df,filtered_df,left_on='submission',right_on='parent_id',how='left')\n",
    "    merged_df.to_csv(f\"Data/Cleaned_Data/crypto_bitcoin/network_data/{subreddit}_{day}.csv\",index=False)"
   ]
  }
 ],
 "metadata": {
  "kernelspec": {
   "display_name": "Python 3 (ipykernel)",
   "language": "python",
   "name": "python3"
  },
  "language_info": {
   "codemirror_mode": {
    "name": "ipython",
    "version": 3
   },
   "file_extension": ".py",
   "mimetype": "text/x-python",
   "name": "python",
   "nbconvert_exporter": "python",
   "pygments_lexer": "ipython3",
   "version": "3.9.17"
  }
 },
 "nbformat": 4,
 "nbformat_minor": 5
}
